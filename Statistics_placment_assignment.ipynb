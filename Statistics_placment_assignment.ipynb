{
 "cells": [
  {
   "cell_type": "markdown",
   "id": "09825c66",
   "metadata": {},
   "source": [
    "Q-1. A university wants to understand the relationship between the SAT scores of its\n",
    "applicants and their college GPA. They collect data on 500 students, including their SAT\n",
    "scores (out of 1600) and their college GPA (on a 4.0 scale). They find that the correlation\n",
    "coefficient between SAT scores and college GPA is 0.7. What does this correlation\n",
    "coefficient indicate about the relationship between SAT scores and college GPA?"
   ]
  },
  {
   "cell_type": "markdown",
   "id": "bc4de190",
   "metadata": {},
   "source": [
    "Ans:\n",
    "    A correlation coefficient of 0.7 indicates a strong positive relationship between SAT scores and college GPA. The correlation coefficient ranges from -1 to 1, where 1 represents a perfect positive relationship, 0 represents no relationship, and -1 represents a perfect negative relationship. In this case, the correlation coefficient of 0.7 suggests a strong positive association, indicating that higher SAT scores are generally associated with higher college GPAs.\n",
    "\n",
    "It's important to note that correlation does not imply causation. While the correlation coefficient indicates a relationship between SAT scores and college GPA, it does not establish a cause-and-effect relationship. Other factors, such as study habits, motivation, and personal circumstances, can also influence college GPA and should be considered when interpreting the results."
   ]
  },
  {
   "cell_type": "markdown",
   "id": "61bccaa0",
   "metadata": {},
   "source": [
    "Q-2. Consider a dataset containing the heights (in centimeters) of 1000 individuals. The\n",
    "mean height is 170 cm with a standard deviation of 10 cm. The dataset is approximately\n",
    "normally distributed, and its skewness is approximately zero. Based on this information,\n",
    "answer the following questions:\n",
    "a. What percentage of individuals in the dataset have heights between 160 cm\n",
    "and 180 cm?\n",
    "b. If we randomly select 100 individuals from the dataset, what is the probability\n",
    "that their average height is greater than 175 cm?\n",
    "c. Assuming the dataset follows a normal distribution, what is the z-score\n",
    "corresponding to a height of 185 cm?\n",
    "d. We know that 5% of the dataset has heights below a certain value. What is\n",
    "the approximate height corresponding to this threshold?\n",
    "e. Calculate the coefficient of variation (CV) for the dataset.\n",
    "f. Calculate the skewness of the dataset and interpret the result."
   ]
  },
  {
   "cell_type": "markdown",
   "id": "7adb68b2",
   "metadata": {},
   "source": [
    "Ans: a. To determine the percentage of individuals in the dataset with heights between 160 cm and 180 cm, we can use the properties of the normal distribution. \n",
    "\n",
    "Since the mean height is 170 cm and the standard deviation is 10 cm, we can calculate the z-scores for both heights using the formula: z = (x - μ) / σ, where x is the height, μ is the mean, and σ is the standard deviation.\n",
    "\n",
    "For 160 cm:\n",
    "z1 = (160 - 170) / 10 = -1\n",
    "\n",
    "For 180 cm:\n",
    "z2 = (180 - 170) / 10 = 1\n",
    "\n",
    "Using a standard normal distribution table or a statistical software, we can find the area under the curve between z = -1 and z = 1, which represents the percentage of individuals with heights between 160 cm and 180 cm.\n",
    "\n",
    "The area between z = -1 and z = 1 is approximately 0.6826 or 68.26%. Therefore, approximately 68.26% of individuals in the dataset have heights between 160 cm and 180 cm.\n",
    "\n",
    "b. To calculate the probability that the average height of a randomly selected group of 100 individuals is greater than 175 cm, we can use the Central Limit Theorem. The Central Limit Theorem states that the distribution of sample means approaches a normal distribution with a mean equal to the population mean and a standard deviation equal to the population standard deviation divided by the square root of the sample size.\n",
    "\n",
    "The standard deviation of the sample means is calculated as σ / sqrt(n), where σ is the population standard deviation and n is the sample size.\n",
    "\n",
    "In this case, the population standard deviation is 10 cm, and the sample size is 100.\n",
    "\n",
    "Standard deviation of the sample means = 10 / sqrt(100) = 10 / 10 = 1\n",
    "\n",
    "Now, we can calculate the z-score for a height of 175 cm using the formula: z = (x - μ) / σ, where x is the height, μ is the mean, and σ is the standard deviation.\n",
    "\n",
    "z = (175 - 170) / 1 = 5\n",
    "\n",
    "Using a standard normal distribution table or a statistical software, we can find the area to the right of z = 5, which represents the probability that the average height is greater than 175 cm.\n",
    "\n",
    "The area to the right of z = 5 is very close to 0. Therefore, the probability that the average height of a randomly selected group of 100 individuals is greater than 175 cm is nearly 0.\n",
    "\n",
    "c. To calculate the z-score corresponding to a height of 185 cm, we can use the formula: z = (x - μ) / σ, where x is the height, μ is the mean, and σ is the standard deviation.\n",
    "\n",
    "z = (185 - 170) / 10 = 15 / 10 = 1.5\n",
    "\n",
    "Therefore, the z-score corresponding to a height of 185 cm is 1.5.\n",
    "\n",
    "d. To find the approximate height corresponding to the threshold where 5% of the dataset has heights below that value, we need to find the z-score that corresponds to the 5th percentile.\n",
    "\n",
    "Using a standard normal distribution table or a statistical software, we can find the z-score that corresponds to the 5th percentile. In this case, the z-score is approximately -1.645.\n",
    "\n",
    "Now, we can calculate the height corresponding to this z-score using the formula: x = μ + z * σ, where x is the height, μ is the mean, z is the z-score, and σ is the standard deviation.\n",
    "\n",
    "x = 170 + (-1.645) * 10 = 170 -"
   ]
  },
  {
   "cell_type": "code",
   "execution_count": 1,
   "id": "cabbbaaf",
   "metadata": {},
   "outputs": [
    {
     "name": "stdout",
     "output_type": "stream",
     "text": [
      "Percentage of individuals with heights between 160 cm and 180 cm: 68.27%\n",
      "Probability that the average height of 100 individuals is greater than 175 cm: 0.0000\n",
      "Z-score corresponding to a height of 185 cm: 1.50\n",
      "Approximate height corresponding to the 5th percentile: 153.55\n",
      "Coefficient of variation (CV) for the dataset: 5.88%\n",
      "Skewness of the dataset: 0\n"
     ]
    }
   ],
   "source": [
    "import scipy.stats as stats\n",
    "\n",
    "# Given values\n",
    "mean_height = 170\n",
    "std_dev = 10\n",
    "\n",
    "# a. Percentage of individuals with heights between 160 cm and 180 cm\n",
    "z1 = (160 - mean_height) / std_dev\n",
    "z2 = (180 - mean_height) / std_dev\n",
    "percentage_between = stats.norm.cdf(z2) - stats.norm.cdf(z1)\n",
    "percentage_between *= 100\n",
    "\n",
    "print(f\"Percentage of individuals with heights between 160 cm and 180 cm: {percentage_between:.2f}%\")\n",
    "\n",
    "# b. Probability that the average height of 100 individuals is greater than 175 cm\n",
    "sample_size = 100\n",
    "sample_mean_std_dev = std_dev / (sample_size ** 0.5)\n",
    "z_score = (175 - mean_height) / sample_mean_std_dev\n",
    "probability_greater = 1 - stats.norm.cdf(z_score)\n",
    "\n",
    "print(f\"Probability that the average height of 100 individuals is greater than 175 cm: {probability_greater:.4f}\")\n",
    "\n",
    "# c. Z-score corresponding to a height of 185 cm\n",
    "height = 185\n",
    "z_score = (height - mean_height) / std_dev\n",
    "\n",
    "print(f\"Z-score corresponding to a height of 185 cm: {z_score:.2f}\")\n",
    "\n",
    "# d. Approximate height corresponding to the threshold where 5% of the dataset has heights below that value\n",
    "percentile = 0.05\n",
    "threshold = stats.norm.ppf(percentile, mean_height, std_dev)\n",
    "\n",
    "print(f\"Approximate height corresponding to the 5th percentile: {threshold:.2f}\")\n",
    "\n",
    "# e. Coefficient of variation (CV) for the dataset\n",
    "cv = (std_dev / mean_height) * 100\n",
    "\n",
    "print(f\"Coefficient of variation (CV) for the dataset: {cv:.2f}%\")\n",
    "\n",
    "# f. Skewness of the dataset\n",
    "skewness = 0  # Given that the skewness is approximately zero for the dataset\n",
    "\n",
    "print(f\"Skewness of the dataset: {skewness}\")\n"
   ]
  },
  {
   "cell_type": "markdown",
   "id": "45449944",
   "metadata": {},
   "source": [
    "Q-3. Consider the ‘Blood Pressure Before’ and ‘Blood Pressure After’ columns from the\n",
    "data and calculate the following\n",
    "https://drive.google.com/file/d/1mCjtYHiX--mMUjicuaP2gH3k-SnFxt8Y/view?usp=share_\n",
    "a. Measure the dispersion in both and interpret the results.\n",
    "b. Calculate mean and 5% confidence interval and plot it in a graph\n",
    "c. Calculate the Mean absolute deviation and Standard deviation and interpret\n",
    "the results.\n",
    "d. Calculate the correlation coefficient and check the significance of it at 1% level\n",
    "of significance."
   ]
  },
  {
   "cell_type": "code",
   "execution_count": 2,
   "id": "cce59668",
   "metadata": {},
   "outputs": [],
   "source": [
    "import pandas as pd\n",
    "import matplotlib.pyplot as plt\n",
    "\n",
    "data = pd.read_csv(\"data.csv\")\n",
    "data.columns = [\"Patient ID\",\"Blood Pressure Before\",\"Blood Pressure After\"]\n",
    "data.drop(\"Patient ID\",axis=1,inplace=True)"
   ]
  },
  {
   "cell_type": "code",
   "execution_count": 3,
   "id": "285b45c3",
   "metadata": {},
   "outputs": [
    {
     "name": "stdout",
     "output_type": "stream",
     "text": [
      "Blood Pressure Before    43.1019\n",
      "Blood Pressure After     46.9704\n",
      "dtype: float64\n",
      "==============================\n",
      "Blood Pressure Before    6.565204\n",
      "Blood Pressure After     6.853495\n",
      "dtype: float64\n"
     ]
    }
   ],
   "source": [
    "# a.Measure the dispersion in both and interpret the results.\n",
    "\n",
    "import numpy as np\n",
    "# Calculate variance and standard deviation\n",
    "variance = np.var(data)\n",
    "std_dev = np.std(data)\n",
    "print(variance)\n",
    "print(\"=\"*30)\n",
    "print(std_dev)"
   ]
  },
  {
   "cell_type": "code",
   "execution_count": 4,
   "id": "2f1a5ada",
   "metadata": {},
   "outputs": [
    {
     "name": "stderr",
     "output_type": "stream",
     "text": [
      "C:\\Users\\yash mohite\\AppData\\Local\\Programs\\Python\\Python310\\lib\\site-packages\\numpy\\core\\fromnumeric.py:3430: FutureWarning: In a future version, DataFrame.mean(axis=None) will return a scalar mean over the entire DataFrame. To retain the old behavior, use 'frame.mean(axis=0)' or just 'frame.mean()'\n",
      "  return mean(axis=axis, dtype=dtype, out=out, **kwargs)\n",
      "No artists with labels found to put in legend.  Note that artists whose label start with an underscore are ignored when legend() is called with no argument.\n"
     ]
    },
    {
     "data": {
      "image/png": "[encoded data removed]",
      "text/plain": [
       "<Figure size 800x600 with 1 Axes>"
      ]
     },
     "metadata": {},
     "output_type": "display_data"
    },
    {
     "name": "stdout",
     "output_type": "stream",
     "text": [
      "Mean data: 170.00\n",
      "Confidence Interval (95%): (array([132.60075849, 126.99326698]), array([135.21924151, 129.72673302]))\n"
     ]
    }
   ],
   "source": [
    "#b. Calculate mean and 5% confidence interval and plot it in a graph\n",
    "# Calculate mean\n",
    "mean = np.mean(data)\n",
    "\n",
    "# Calculate 5% confidence interval\n",
    "confidence_interval = stats.t.interval(0.95, len(data) - 1, loc=np.mean(data), scale=stats.sem(data))\n",
    "\n",
    "# Plotting the mean and confidence interval\n",
    "plt.figure(figsize=(8, 6))\n",
    "plt.hist(data, bins=30, alpha=0.5)\n",
    "# plt.axvline(mean, color='r', linestyle='--', label='Mean')\n",
    "#plt.axvline(confidence_interval[0], color='g', linestyle='--', label='95% Confidence Interval')\n",
    "#plt.axvline(confidence_interval[1], color='g', linestyle='--')\n",
    "plt.xlabel('Height (cm)')\n",
    "plt.ylabel('Frequency')\n",
    "plt.title('Distribution with Mean and 95% Confidence Interval')\n",
    "plt.legend()\n",
    "plt.show()\n",
    "\n",
    "print(f\"Mean data: {mean_height:.2f}\")\n",
    "print(f\"Confidence Interval (95%): {confidence_interval}\")"
   ]
  },
  {
   "cell_type": "code",
   "execution_count": 5,
   "id": "ed2d52da",
   "metadata": {},
   "outputs": [
    {
     "name": "stdout",
     "output_type": "stream",
     "text": [
      "Blood Pressure Before    5.7118\n",
      "Blood Pressure After     5.9000\n",
      "dtype: float64\n",
      "**************************************************\n",
      "Blood Pressure Before    6.565204\n",
      "Blood Pressure After     6.853495\n",
      "dtype: float64\n"
     ]
    }
   ],
   "source": [
    "#c. Calculate the Mean absolute deviation and Standard deviation and interpretthe results\n",
    "c= np.mean(np.abs(data-np.mean(data)))\n",
    "sd = np.std(data)\n",
    "print(c)\n",
    "print(\"*\"*50)\n",
    "print(sd)"
   ]
  },
  {
   "cell_type": "code",
   "execution_count": 6,
   "id": "b935f4f3",
   "metadata": {},
   "outputs": [
    {
     "name": "stdout",
     "output_type": "stream",
     "text": [
      "Correlation Coefficient: 0.98\n",
      "p-value: 0.0000\n",
      "The correlation coefficient is statistically significant at the 1% level of significance.\n"
     ]
    }
   ],
   "source": [
    "#d. Calculate the correlation coefficient and check the significance of it at 1% levelof significance.\n",
    "\n",
    "import scipy.stats as stats\n",
    "\n",
    "# Given datasets\n",
    "x = data[\"Blood Pressure Before\"]  \n",
    "y = data[\"Blood Pressure After\"]\n",
    "\n",
    "# Calculate correlation coefficient\n",
    "corr_coef, p_value = stats.pearsonr(x, y)\n",
    "\n",
    "print(f\"Correlation Coefficient: {corr_coef:.2f}\")\n",
    "print(f\"p-value: {p_value:.4f}\")\n",
    "\n",
    "# Check significance at 1% level of significance\n",
    "if p_value < 0.01:\n",
    "    print(\"The correlation coefficient is statistically significant at the 1% level of significance.\")\n",
    "else:\n",
    "    print(\"The correlation coefficient is not statistically significant at the 1% level of significance.\")\n"
   ]
  },
  {
   "cell_type": "markdown",
   "id": "b9ea89ce",
   "metadata": {},
   "source": [
    "Q-4. A group of 20 friends decide to play a game in which they each write a number\n",
    "between 1 and 20 on a slip of paper and put it into a hat. They then draw one slip of paper\n",
    "at random. What is the probability that the number on the slip of paper is a perfect square\n",
    "(i.e., 1, 4, 9, or 16)"
   ]
  },
  {
   "cell_type": "code",
   "execution_count": 7,
   "id": "a7e99ea0",
   "metadata": {},
   "outputs": [
    {
     "name": "stdout",
     "output_type": "stream",
     "text": [
      "The probability of drawing a perfect square number is: 0.20\n"
     ]
    }
   ],
   "source": [
    "# Number of favorable outcomes (perfect squares)\n",
    "favorable_outcomes = 4\n",
    "\n",
    "# Total number of possible outcomes\n",
    "total_outcomes = 20\n",
    "\n",
    "# Calculate the probability\n",
    "probability = favorable_outcomes / total_outcomes\n",
    "\n",
    "# Display the result\n",
    "print(f\"The probability of drawing a perfect square number is: {probability:.2f}\")"
   ]
  },
  {
   "cell_type": "markdown",
   "id": "c8a5cce2",
   "metadata": {},
   "source": [
    "Q-5. A certain city has two taxi companies: Company A has 80% of the taxis and\n",
    "Company B has 20% of the taxis. Company A's taxis have a 95% success rate for picking\n",
    "up passengers on time, while Company B's taxis have a 90% success rate. If a randomly\n",
    "selected taxi is late, what is the probability that it belongs to Company A?"
   ]
  },
  {
   "cell_type": "code",
   "execution_count": 8,
   "id": "d65ec27d",
   "metadata": {},
   "outputs": [
    {
     "name": "stdout",
     "output_type": "stream",
     "text": [
      "The probability that a randomly selected late taxi belongs to Company A is: 0.67\n"
     ]
    }
   ],
   "source": [
    "# Given probabilities\n",
    "P_A = 0.8\n",
    "P_B_given_A = 0.05\n",
    "P_B_given_not_A = 0.1\n",
    "\n",
    "# Calculate P(not A)\n",
    "P_not_A = 1 - P_A\n",
    "\n",
    "# Calculate P(B)\n",
    "P_B = P_B_given_A * P_A + P_B_given_not_A * P_not_A\n",
    "\n",
    "# Calculate P(A|B) using Bayes' theorem\n",
    "P_A_given_B = (P_B_given_A * P_A) / P_B\n",
    "\n",
    "# Display the result\n",
    "print(f\"The probability that a randomly selected late taxi belongs to Company A is: {P_A_given_B:.2f}\")\n"
   ]
  },
  {
   "cell_type": "markdown",
   "id": "e66fbe20",
   "metadata": {},
   "source": [
    "Q-6. A pharmaceutical company is developing a drug that is supposed to reduce blood\n",
    "pressure. They conduct a clinical trial with 100 patients and record their blood\n",
    "pressure before and after taking the drug. The company wants to know if the change\n",
    "in blood pressure follows a normal distribution.\n",
    "https://drive.google.com/file/d/1mCjtYHiX--mMUjicuaP2gH3k-SnFxt8Y/view?usp=share"
   ]
  },
  {
   "cell_type": "code",
   "execution_count": 9,
   "id": "9af5ce11",
   "metadata": {},
   "outputs": [
    {
     "name": "stdout",
     "output_type": "stream",
     "text": [
      "Shapiro-Wilk Test - p-value: 0.0004\n",
      "The blood pressure changes do not follow a normal distribution.\n"
     ]
    }
   ],
   "source": [
    "blood_pressure_changes = data\n",
    "# Perform Shapiro-Wilk test for normality\n",
    "statistic, p_value = stats.shapiro(blood_pressure_changes)\n",
    "\n",
    "alpha = 0.05  # Set the significance level\n",
    "\n",
    "print(f\"Shapiro-Wilk Test - p-value: {p_value:.4f}\")\n",
    "\n",
    "if p_value > alpha:\n",
    "    print(\"The blood pressure changes follow a normal distribution.\")\n",
    "else:\n",
    "    print(\"The blood pressure changes do not follow a normal distribution.\")"
   ]
  },
  {
   "cell_type": "markdown",
   "id": "8b9a9808",
   "metadata": {},
   "source": [
    "Q-7.The equations of two lines of regression, obtained in a correlation analysis\n",
    "between variables X and Y are as follows:\n",
    "and . 2𝑋 + 3 − 8 = 0 2𝑌 + 𝑋 − 5 = 0 The variance of 𝑋 = 4 Find the\n",
    "a. Variance of Y\n",
    "b. Coefficient of determination of C and Y\n",
    "c. Standard error of estimate of X on Y and of Y on X."
   ]
  },
  {
   "cell_type": "markdown",
   "id": "8bc8630d",
   "metadata": {},
   "source": [
    "We must apply the equations of the regression lines and \n",
    "the provided variance of X to get the variance of Y, coefficient of determination of X and Y, and \n",
    "the standard error of estimate of X on Y and Y on X. Let's carry out the calculations in stages:\n",
    "Equations for the regression lines, as given:\n",
    "\n",
    "\n",
    "2𝑋 + 3𝑌 − 8 = 0\n",
    "2𝑌 + 𝑋 − 5 = 0\n",
    "Given X's variance, Var(X) equals 4.\n",
    "\n",
    "a. Variance of Y: To determine the variance of Y, we must compute the variance of the regression model's residuals or mistakes. By entering the values of X and Y into one of the regression equations and finding the appropriate residual, the residual may be determined. Take the first regression equation as our example.\n",
    "ccording to equation 1, 2X + 3Y 8 = 0\n",
    "To solve for Y, rewrite the equation as 3Y = 8 2X.\n",
    "\n",
    "𝑌 = (8 − 2𝑋) / 3\n",
    "\n",
    "After that, change the value of Y into terms of X in equation 2 and find X:\n",
    "2(8 - 2X) / 3 = 0 -X + 1 = 0 X = 1 (16 - 4X + 3X - 15) / 3 = X = 1\n",
    "\n",
    "Replace X = 1 with Y = (8 - 2X) / 3 to get Y = (8 - 2(1)) / 3 and Y = 2/3.\n",
    "\n",
    "Because of this, there is only one point on the line: (X=1, Y=2/3).\n",
    "\n",
    "Let's now determine the residual for this location on line 1:\n",
    "Residual is defined as: Observed Y - Predicted Y = 2/3 - (8 - 2(1)) / 3 = 2/3 - 6/3 = -4/3\n",
    "\n",
    "Since the variance of X is specified as 4, we can use the following calculation to get the variance of Y:\n",
    "Var(Y) is equal to Var(Residual) plus Var(Predicted Y).\n",
    "\n",
    "Variable (Residual) = Sum of Squared Remainings / (n-2) = (-4/3)2 / (1-2) = 16/9\n",
    "\n",
    "Var(Predicted Y) equals Var(Predicted Y) - Var(Residual) - 16/9\n",
    "\n",
    "Given Var(X) = 4; Var(Y) = Var(X) + Var(Residual) + 16/9; 16/9 = 4; 16/9 + 16/9; 144; 32; 176;\n",
    "\n",
    "As a result, Y's variance is 176/9.\n",
    "\n",
    "b. X and Y's R2 coefficient of determination\n",
    "The percentage of the dependent variable's (Y) variance that can be predicted from the independent variable (X) is represented by the coefficient of determination. The following formula can be used to compute it:\n",
    "\n",
    "R2 is equal to (X - Residual) / X.\n",
    "\n",
    "Var(X) = 4 and Var(Residual) = 16/9 can be substituted into the following formula to determine R2:\n",
    "\n",
    "R^2 = (4 - 16/9) / 4 = (36/9 - 16/9) / 4 = 20/9 / 4 = 20/36 = 5/9\n",
    "\n",
    "As a result, 5/9 represents the coefficient of determination (R2) between X and Y.\n",
    "c. Estimated standard errors of X on Y and Y on X\n",
    "The average difference between the observed values and the projected values in a regression model is measured by the standard error of estimation. The following formulas can be used to compute it:\n",
    "\n",
    "Estimated standard deviation of X on Y:\n",
    "SE(X|Y) is equal to sqrt(Var(Residual) / (n-2) + sqrt(16/9 / (1-2) + sqrt(16/9 / (-1)) + sqrt(-16/9)\n",
    "(The negative number indicates that the regression model is inappropriate for this set of data.)\n",
    "\n",
    "The estimated standard error of Y on X is:\n",
    "SE(Y|X) sqrt(Var(Residual)/n-2) = sqrt(16/9 / (1-2) = sqrt(16/9 / (-1)) = sqrt(-16/9)\n",
    "(The negative number indicates that the regression model is inappropriate for this set of data.)\n",
    "\n"
   ]
  },
  {
   "cell_type": "markdown",
   "id": "a6186345",
   "metadata": {},
   "source": [
    "Q-8. The anxiety levels of 10 participants were measured before and after a new therapy.\n",
    "The scores are not normally distributed. Use the Wilcoxon signed-rank test to test whether\n",
    "the therapy had a significant effect on anxiety levels. The data is given below: Participant\n",
    "Before therapy After therapy Difference\n"
   ]
  },
  {
   "cell_type": "code",
   "execution_count": 10,
   "id": "720c2e43",
   "metadata": {},
   "outputs": [
    {
     "name": "stdout",
     "output_type": "stream",
     "text": [
      "The therapy had a significant effect on anxiety levels.\n"
     ]
    }
   ],
   "source": [
    "before_therapy = [10,8,12,15,6,9,11,7,14,10]  # List of anxiety levels before therapy\n",
    "after_therapy = [7,6,10,12,5,8,9,6,12,8]  # List of anxiety levels after therapy\n",
    "statistic, p_value = stats.wilcoxon(before_therapy, after_therapy)\n",
    "alpha = 0.05\n",
    "\n",
    "if p_value < alpha:\n",
    "    print(\"The therapy had a significant effect on anxiety levels.\")\n",
    "else:\n",
    "    print(\"There was no significant effect of the therapy on anxiety levels.\")\n",
    "\n",
    "\n"
   ]
  },
  {
   "cell_type": "markdown",
   "id": "763051e9",
   "metadata": {},
   "source": [
    "Q-9. Given the score of students in multiple exams\n",
    "Test the hypothesis that the mean scores of all the students are the same. If not, name the\n",
    "student with the highest score."
   ]
  },
  {
   "cell_type": "code",
   "execution_count": 11,
   "id": "6fee3490",
   "metadata": {},
   "outputs": [
    {
     "name": "stdout",
     "output_type": "stream",
     "text": [
      "The mean scores of the students are the same.\n"
     ]
    }
   ],
   "source": [
    "# Prepare the data\n",
    "exam1_scores = [85,70,90,75,95]  # Scores of students in Exam 1\n",
    "exam2_scores = [90,80,85,70,92]  # Scores of students in Exam 2\n",
    "\n",
    "# Perform one-way ANOVA\n",
    "f_statistic, p_value = stats.f_oneway(exam1_scores, exam2_scores)\n",
    "\n",
    "alpha = 0.05  # Set the significance level\n",
    "\n",
    "# Check if the null hypothesis is rejected or not\n",
    "if p_value < alpha:\n",
    "    print(\"The mean scores of the students are not the same.\")\n",
    "    \n",
    "    # Find the student with the highest score\n",
    "    all_scores = exam1_scores + exam2_scores \n",
    "    highest_score = max(all_scores)\n",
    "    \n",
    "    # Find the student(s) with the highest score\n",
    "    highest_scoring_students = [i + 1 for i, score in enumerate(all_scores) if score == highest_score]\n",
    "    print(f\"The student(s) with the highest score is/are: {highest_scoring_students}\")\n",
    "    \n",
    "else:\n",
    "    print(\"The mean scores of the students are the same.\")\n"
   ]
  },
  {
   "cell_type": "markdown",
   "id": "c5b8b08c",
   "metadata": {},
   "source": [
    "Q-10. A factory produces light bulbs, and the probability of a bulb being defective is 0.05.\n",
    "The factory produces a large batch of 500 light bulbs.\n",
    "a. What is the probability that exactly 20 bulbs are defective?\n",
    "b. What is the probability that at least 10 bulbs are defective?\n",
    "c. What is the probability that at max 15 bulbs are defective?\n",
    "d. On average, how many defective bulbs would you expect in a batch of 500"
   ]
  },
  {
   "cell_type": "code",
   "execution_count": 12,
   "id": "ec85c014",
   "metadata": {},
   "outputs": [
    {
     "name": "stdout",
     "output_type": "stream",
     "text": [
      "The probability that exactly 20 bulbs are defective: 0.0516\n",
      "The probability that at least 10 bulbs are defective: 0.9998\n",
      "The probability that at most 15 bulbs are defective: 0.0199\n",
      "On average, you would expect 25.00 defective bulbs in a batch of 500.\n"
     ]
    }
   ],
   "source": [
    "import scipy.stats as stats\n",
    "\n",
    "total_bulbs = 500\n",
    "probability_defective = 0.05\n",
    "\n",
    "# a. Probability of exactly 20 bulbs being defective\n",
    "k = 20\n",
    "p_20_defective = stats.binom.pmf(k, total_bulbs, probability_defective)\n",
    "print(f\"The probability that exactly 20 bulbs are defective: {p_20_defective:.4f}\")\n",
    "\n",
    "# b. Probability of at least 10 bulbs being defective\n",
    "k_min = 10\n",
    "p_at_least_10_defective = 1 - stats.binom.cdf(k_min - 1, total_bulbs, probability_defective)\n",
    "print(f\"The probability that at least 10 bulbs are defective: {p_at_least_10_defective:.4f}\")\n",
    "\n",
    "# c. Probability of at most 15 bulbs being defective\n",
    "k_max = 15\n",
    "p_at_most_15_defective = stats.binom.cdf(k_max, total_bulbs, probability_defective)\n",
    "print(f\"The probability that at most 15 bulbs are defective: {p_at_most_15_defective:.4f}\")\n",
    "\n",
    "# d. Expected number of defective bulbs in a batch of 500\n",
    "expected_defective_bulbs = total_bulbs * probability_defective\n",
    "print(f\"On average, you would expect {expected_defective_bulbs:.2f} defective bulbs in a batch of 500.\")\n"
   ]
  },
  {
   "cell_type": "markdown",
   "id": "55b264f6",
   "metadata": {},
   "source": [
    "Q-11. Given the data of a feature contributing to different classes\n",
    "https://drive.google.com/file/d/1mCjtYHiX--mMUjicuaP2gH3k-SnFxt8Y/view?usp\n",
    "=share_\n",
    "a. Check whether the distribution of all the classes are the same or not.\n",
    "b. Check for the equality of variance/\n",
    "c. Which amount LDA and QDA would perform better on this data for\n",
    "classification and why.\n",
    "d. Check the equality of mean for between all the classes."
   ]
  },
  {
   "cell_type": "code",
   "execution_count": 13,
   "id": "ea2c66ff",
   "metadata": {},
   "outputs": [
    {
     "data": {
      "text/plain": [
       "<AxesSubplot:ylabel='Count'>"
      ]
     },
     "execution_count": 13,
     "metadata": {},
     "output_type": "execute_result"
    },
    {
     "data": {
      "image/png": "[encoded data removed]",
      "text/plain": [
       "<Figure size 640x480 with 1 Axes>"
      ]
     },
     "metadata": {},
     "output_type": "display_data"
    }
   ],
   "source": [
    "import seaborn as sns\n",
    "sns.histplot(data)"
   ]
  },
  {
   "cell_type": "markdown",
   "id": "377557e5",
   "metadata": {},
   "source": [
    "Q-12. A pharmaceutical company develops a new drug and wants to compare its\n",
    "effectiveness against a standard drug for treating a particular condition. They conduct a\n",
    "study with two groups: Group A receives the new drug, and Group B receives the standard\n",
    "drug. The company measures the improvement in a specific symptom for both groups after\n",
    "a 4-week treatment period.\n",
    "a. The company collects data from 30 patients in each group and calculates the\n",
    "mean improvement score and the standard deviation of improvement for each\n",
    "group. The mean improvement score for Group A is 2.5 with a standard\n",
    "deviation of 0.8, while the mean improvement score for Group B is 2.2 with a\n",
    "standard deviation of 0.6. Conduct a t-test to determine if there is a significant\n",
    "difference in the mean improvement scores between the two groups. Use a\n",
    "significance level of 0.05.\n",
    "b. Based on the t-test results, state whether the null hypothesis should be\n",
    "rejected or not. Provide a conclusion in the context of the study."
   ]
  },
  {
   "cell_type": "code",
   "execution_count": 28,
   "id": "b8176c33",
   "metadata": {},
   "outputs": [
    {
     "name": "stdout",
     "output_type": "stream",
     "text": [
      "Fail to reject the null hypothesis.\n",
      "There is no significant difference in the mean improvement scores between Group A and Group B.\n"
     ]
    }
   ],
   "source": [
    "# Define the sample statistics for Group A\n",
    "mean_a = 2.5\n",
    "std_a = 0.8\n",
    "n_a = 30\n",
    "\n",
    "# Define the sample statistics for Group B\n",
    "mean_b = 2.2\n",
    "std_b = 0.6\n",
    "n_b = 30\n",
    "\n",
    "# Calculate the t-statistic and p-value for the two-sample independent t-test\n",
    "t_statistic, p_value = stats.ttest_ind_from_stats(mean_a, std_a, n_a, mean_b, std_b, n_b)\n",
    "\n",
    "# Compare the p-value to the significance level\n",
    "alpha = 0.05\n",
    "\n",
    "if p_value < alpha:\n",
    "    print(\"Reject the null hypothesis.\")\n",
    "    print(\"There is a significant difference in the mean improvement scores between Group A and Group B.\")\n",
    "else:\n",
    "    print(\"Fail to reject the null hypothesis.\")\n",
    "    print(\"There is no significant difference in the mean improvement scores between Group A and Group B.\")"
   ]
  },
  {
   "cell_type": "code",
   "execution_count": null,
   "id": "371ef472",
   "metadata": {},
   "outputs": [],
   "source": []
  }
 ],
 "metadata": {
  "kernelspec": {
   "display_name": "Python 3 (ipykernel)",
   "language": "python",
   "name": "python3"
  },
  "language_info": {
   "codemirror_mode": {
    "name": "ipython",
    "version": 3
   },
   "file_extension": ".py",
   "mimetype": "text/x-python",
   "name": "python",
   "nbconvert_exporter": "python",
   "pygments_lexer": "ipython3",
   "version": "3.10.9"
  }
 },
 "nbformat": 4,
 "nbformat_minor": 5
}
